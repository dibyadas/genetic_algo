{
 "cells": [
  {
   "cell_type": "markdown",
   "metadata": {},
   "source": [
    "\n",
    "##### Author : Dibya Prakash Das\n"
   ]
  },
  {
   "cell_type": "code",
   "execution_count": 1,
   "metadata": {
    "collapsed": false
   },
   "outputs": [],
   "source": [
    "import random\n",
    "from GAlib.GA import create_chromsome, decoder, sanitiser, evaluater\n",
    "from GAlib.GAhelper import count, calc_cumulative, lessthan, create_next_gen, make_crossover\n",
    "import pandas as pd"
   ]
  },
  {
   "cell_type": "markdown",
   "metadata": {},
   "source": [
    "### Creating an initial population of 30 chromosomes"
   ]
  },
  {
   "cell_type": "code",
   "execution_count": 77,
   "metadata": {
    "collapsed": true
   },
   "outputs": [],
   "source": [
    "mating_pool = [create_chromsome() for i in range(30)]"
   ]
  },
  {
   "cell_type": "code",
   "execution_count": 106,
   "metadata": {
    "collapsed": false
   },
   "outputs": [],
   "source": [
    "mating_pool = make_crossover(create_next_gen(count(corresponding,mating_pool),mating_pool),0.95)"
   ]
  },
  {
   "cell_type": "code",
   "execution_count": 78,
   "metadata": {
    "collapsed": true
   },
   "outputs": [],
   "source": [
    "table = pd.DataFrame(columns=['Population','Fitness','Normalized Fitness','Cumulative','Random','Corresponding Chromosome','Next Gen Count'])"
   ]
  },
  {
   "cell_type": "markdown",
   "metadata": {},
   "source": [
    "### Fitness function, to make the chromosome value as close to 20 as possible"
   ]
  },
  {
   "cell_type": "code",
   "execution_count": 119,
   "metadata": {
    "collapsed": false
   },
   "outputs": [],
   "source": [
    "def fitness_function(x):\n",
    "    try:\n",
    "        return abs(1/(20 - x))\n",
    "    except ZeroDivisionError:\n",
    "        return 100"
   ]
  },
  {
   "cell_type": "code",
   "execution_count": 107,
   "metadata": {
    "collapsed": false
   },
   "outputs": [],
   "source": [
    "fitness = [fitness_function(evaluater(sanitiser(decoder(i)))) for i in mating_pool]"
   ]
  },
  {
   "cell_type": "code",
   "execution_count": 108,
   "metadata": {
    "collapsed": false
   },
   "outputs": [],
   "source": [
    "values = [evaluater(sanitiser(decoder(i))) for i in mating_pool]"
   ]
  },
  {
   "cell_type": "code",
   "execution_count": 109,
   "metadata": {
    "collapsed": false
   },
   "outputs": [],
   "source": [
    "total_fitness = sum(fitness)"
   ]
  },
  {
   "cell_type": "code",
   "execution_count": 110,
   "metadata": {
    "collapsed": true
   },
   "outputs": [],
   "source": [
    "cumulative_fitness = []"
   ]
  },
  {
   "cell_type": "code",
   "execution_count": 111,
   "metadata": {
    "collapsed": true
   },
   "outputs": [],
   "source": [
    "normalized_fitness = [i/sum(fitness) for i in fitness]"
   ]
  },
  {
   "cell_type": "code",
   "execution_count": 112,
   "metadata": {
    "collapsed": false
   },
   "outputs": [],
   "source": [
    "cumulative_fitness = calc_cumulative(normalized_fitness)"
   ]
  },
  {
   "cell_type": "code",
   "execution_count": 113,
   "metadata": {
    "collapsed": true
   },
   "outputs": [],
   "source": [
    "random_prob = [random.randint(0,999)/1000 for i in range(len(mating_pool))]"
   ]
  },
  {
   "cell_type": "code",
   "execution_count": 114,
   "metadata": {
    "collapsed": false
   },
   "outputs": [],
   "source": [
    "corresponding = [lessthan(i,cumulative_fitness) for i in random_prob]"
   ]
  },
  {
   "cell_type": "code",
   "execution_count": 115,
   "metadata": {
    "collapsed": false
   },
   "outputs": [
    {
     "data": {
      "text/plain": [
       "(30, 30, 30, 30)"
      ]
     },
     "execution_count": 115,
     "metadata": {},
     "output_type": "execute_result"
    }
   ],
   "source": [
    "len(random_prob), len(fitness), len(cumulative_fitness), len(mating_pool)"
   ]
  },
  {
   "cell_type": "code",
   "execution_count": 116,
   "metadata": {
    "collapsed": false
   },
   "outputs": [],
   "source": [
    "table['Population'] = mating_pool\n",
    "table['Fitness'] = fitness\n",
    "table['Normalized Fitness'] = normalized_fitness\n",
    "table['Cumulative'] = cumulative_fitness\n",
    "table['Random'] = random_prob\n",
    "table['Corresponding Chromosome'] = corresponding\n",
    "table['Next Gen Count'] = count(corresponding, mating_pool)"
   ]
  },
  {
   "cell_type": "code",
   "execution_count": 117,
   "metadata": {
    "collapsed": false
   },
   "outputs": [
    {
     "data": {
      "text/html": [
       "<div>\n",
       "<style>\n",
       "    .dataframe thead tr:only-child th {\n",
       "        text-align: right;\n",
       "    }\n",
       "\n",
       "    .dataframe thead th {\n",
       "        text-align: left;\n",
       "    }\n",
       "\n",
       "    .dataframe tbody tr th {\n",
       "        vertical-align: top;\n",
       "    }\n",
       "</style>\n",
       "<table border=\"1\" class=\"dataframe\">\n",
       "  <thead>\n",
       "    <tr style=\"text-align: right;\">\n",
       "      <th></th>\n",
       "      <th>Population</th>\n",
       "      <th>Fitness</th>\n",
       "      <th>Normalized Fitness</th>\n",
       "      <th>Cumulative</th>\n",
       "      <th>Random</th>\n",
       "      <th>Corresponding Chromosome</th>\n",
       "      <th>Next Gen Count</th>\n",
       "    </tr>\n",
       "  </thead>\n",
       "  <tbody>\n",
       "    <tr>\n",
       "      <th>0</th>\n",
       "      <td>1010011011001010001011000001</td>\n",
       "      <td>0.500000</td>\n",
       "      <td>0.103503</td>\n",
       "      <td>0.103503</td>\n",
       "      <td>0.051</td>\n",
       "      <td>0</td>\n",
       "      <td>6</td>\n",
       "    </tr>\n",
       "    <tr>\n",
       "      <th>1</th>\n",
       "      <td>1000110000001000001001101000</td>\n",
       "      <td>0.100000</td>\n",
       "      <td>0.020701</td>\n",
       "      <td>0.124204</td>\n",
       "      <td>0.434</td>\n",
       "      <td>11</td>\n",
       "      <td>0</td>\n",
       "    </tr>\n",
       "    <tr>\n",
       "      <th>2</th>\n",
       "      <td>1000110000001010001011000000</td>\n",
       "      <td>0.100000</td>\n",
       "      <td>0.020701</td>\n",
       "      <td>0.144904</td>\n",
       "      <td>0.704</td>\n",
       "      <td>17</td>\n",
       "      <td>1</td>\n",
       "    </tr>\n",
       "    <tr>\n",
       "      <th>3</th>\n",
       "      <td>1000110011001010101101101011</td>\n",
       "      <td>0.026316</td>\n",
       "      <td>0.005448</td>\n",
       "      <td>0.150352</td>\n",
       "      <td>0.866</td>\n",
       "      <td>25</td>\n",
       "      <td>1</td>\n",
       "    </tr>\n",
       "    <tr>\n",
       "      <th>4</th>\n",
       "      <td>1010011011001000001011000001</td>\n",
       "      <td>0.026316</td>\n",
       "      <td>0.005448</td>\n",
       "      <td>0.155799</td>\n",
       "      <td>0.602</td>\n",
       "      <td>16</td>\n",
       "      <td>0</td>\n",
       "    </tr>\n",
       "    <tr>\n",
       "      <th>5</th>\n",
       "      <td>1000110000001010001011000001</td>\n",
       "      <td>0.125000</td>\n",
       "      <td>0.025876</td>\n",
       "      <td>0.181675</td>\n",
       "      <td>0.065</td>\n",
       "      <td>0</td>\n",
       "      <td>0</td>\n",
       "    </tr>\n",
       "    <tr>\n",
       "      <th>6</th>\n",
       "      <td>1000111011001000001001101000</td>\n",
       "      <td>0.500000</td>\n",
       "      <td>0.103503</td>\n",
       "      <td>0.285178</td>\n",
       "      <td>0.056</td>\n",
       "      <td>0</td>\n",
       "      <td>3</td>\n",
       "    </tr>\n",
       "    <tr>\n",
       "      <th>7</th>\n",
       "      <td>1010010000001010001011000001</td>\n",
       "      <td>0.250000</td>\n",
       "      <td>0.051752</td>\n",
       "      <td>0.336930</td>\n",
       "      <td>0.382</td>\n",
       "      <td>10</td>\n",
       "      <td>0</td>\n",
       "    </tr>\n",
       "    <tr>\n",
       "      <th>8</th>\n",
       "      <td>1000110000001010001001101000</td>\n",
       "      <td>0.125000</td>\n",
       "      <td>0.025876</td>\n",
       "      <td>0.362806</td>\n",
       "      <td>0.559</td>\n",
       "      <td>14</td>\n",
       "      <td>1</td>\n",
       "    </tr>\n",
       "    <tr>\n",
       "      <th>9</th>\n",
       "      <td>1010011011001000001011000001</td>\n",
       "      <td>0.026316</td>\n",
       "      <td>0.005448</td>\n",
       "      <td>0.368253</td>\n",
       "      <td>0.195</td>\n",
       "      <td>6</td>\n",
       "      <td>0</td>\n",
       "    </tr>\n",
       "    <tr>\n",
       "      <th>10</th>\n",
       "      <td>1000110000001010101101101010</td>\n",
       "      <td>0.250000</td>\n",
       "      <td>0.051752</td>\n",
       "      <td>0.420005</td>\n",
       "      <td>0.273</td>\n",
       "      <td>6</td>\n",
       "      <td>2</td>\n",
       "    </tr>\n",
       "    <tr>\n",
       "      <th>11</th>\n",
       "      <td>1000110000001010001011000001</td>\n",
       "      <td>0.125000</td>\n",
       "      <td>0.025876</td>\n",
       "      <td>0.445881</td>\n",
       "      <td>0.875</td>\n",
       "      <td>25</td>\n",
       "      <td>2</td>\n",
       "    </tr>\n",
       "    <tr>\n",
       "      <th>12</th>\n",
       "      <td>1000110011001000001001101000</td>\n",
       "      <td>0.018519</td>\n",
       "      <td>0.003833</td>\n",
       "      <td>0.449714</td>\n",
       "      <td>0.047</td>\n",
       "      <td>0</td>\n",
       "      <td>0</td>\n",
       "    </tr>\n",
       "    <tr>\n",
       "      <th>13</th>\n",
       "      <td>1010010011001010101101101010</td>\n",
       "      <td>0.071429</td>\n",
       "      <td>0.014786</td>\n",
       "      <td>0.464500</td>\n",
       "      <td>0.127</td>\n",
       "      <td>2</td>\n",
       "      <td>0</td>\n",
       "    </tr>\n",
       "    <tr>\n",
       "      <th>14</th>\n",
       "      <td>1000111011001010001001101010</td>\n",
       "      <td>0.500000</td>\n",
       "      <td>0.103503</td>\n",
       "      <td>0.568003</td>\n",
       "      <td>0.145</td>\n",
       "      <td>3</td>\n",
       "      <td>2</td>\n",
       "    </tr>\n",
       "    <tr>\n",
       "      <th>15</th>\n",
       "      <td>1000110000001010001011000001</td>\n",
       "      <td>0.125000</td>\n",
       "      <td>0.025876</td>\n",
       "      <td>0.593879</td>\n",
       "      <td>0.520</td>\n",
       "      <td>14</td>\n",
       "      <td>1</td>\n",
       "    </tr>\n",
       "    <tr>\n",
       "      <th>16</th>\n",
       "      <td>1000110011001010101011000001</td>\n",
       "      <td>0.500000</td>\n",
       "      <td>0.103503</td>\n",
       "      <td>0.697382</td>\n",
       "      <td>0.640</td>\n",
       "      <td>16</td>\n",
       "      <td>3</td>\n",
       "    </tr>\n",
       "    <tr>\n",
       "      <th>17</th>\n",
       "      <td>1000110000001010001011000001</td>\n",
       "      <td>0.125000</td>\n",
       "      <td>0.025876</td>\n",
       "      <td>0.723258</td>\n",
       "      <td>0.376</td>\n",
       "      <td>10</td>\n",
       "      <td>1</td>\n",
       "    </tr>\n",
       "    <tr>\n",
       "      <th>18</th>\n",
       "      <td>1000110000001010001001101000</td>\n",
       "      <td>0.125000</td>\n",
       "      <td>0.025876</td>\n",
       "      <td>0.749134</td>\n",
       "      <td>0.442</td>\n",
       "      <td>11</td>\n",
       "      <td>1</td>\n",
       "    </tr>\n",
       "    <tr>\n",
       "      <th>19</th>\n",
       "      <td>1010110000001010001011000001</td>\n",
       "      <td>0.125000</td>\n",
       "      <td>0.025876</td>\n",
       "      <td>0.775010</td>\n",
       "      <td>0.360</td>\n",
       "      <td>8</td>\n",
       "      <td>1</td>\n",
       "    </tr>\n",
       "    <tr>\n",
       "      <th>20</th>\n",
       "      <td>1000011011001000001101101010</td>\n",
       "      <td>0.018519</td>\n",
       "      <td>0.003833</td>\n",
       "      <td>0.778843</td>\n",
       "      <td>0.687</td>\n",
       "      <td>16</td>\n",
       "      <td>0</td>\n",
       "    </tr>\n",
       "    <tr>\n",
       "      <th>21</th>\n",
       "      <td>1000110011001010101001101000</td>\n",
       "      <td>0.026316</td>\n",
       "      <td>0.005448</td>\n",
       "      <td>0.784291</td>\n",
       "      <td>0.067</td>\n",
       "      <td>0</td>\n",
       "      <td>0</td>\n",
       "    </tr>\n",
       "    <tr>\n",
       "      <th>22</th>\n",
       "      <td>1010011011001000001101100001</td>\n",
       "      <td>0.026316</td>\n",
       "      <td>0.005448</td>\n",
       "      <td>0.789738</td>\n",
       "      <td>0.905</td>\n",
       "      <td>25</td>\n",
       "      <td>0</td>\n",
       "    </tr>\n",
       "    <tr>\n",
       "      <th>23</th>\n",
       "      <td>1000110000001010001011101010</td>\n",
       "      <td>0.125000</td>\n",
       "      <td>0.025876</td>\n",
       "      <td>0.815614</td>\n",
       "      <td>0.256</td>\n",
       "      <td>6</td>\n",
       "      <td>1</td>\n",
       "    </tr>\n",
       "    <tr>\n",
       "      <th>24</th>\n",
       "      <td>1000110011001010101101101010</td>\n",
       "      <td>0.026316</td>\n",
       "      <td>0.005448</td>\n",
       "      <td>0.821061</td>\n",
       "      <td>0.746</td>\n",
       "      <td>18</td>\n",
       "      <td>0</td>\n",
       "    </tr>\n",
       "    <tr>\n",
       "      <th>25</th>\n",
       "      <td>1011101011001000001001101000</td>\n",
       "      <td>0.500000</td>\n",
       "      <td>0.103503</td>\n",
       "      <td>0.924565</td>\n",
       "      <td>0.968</td>\n",
       "      <td>28</td>\n",
       "      <td>3</td>\n",
       "    </tr>\n",
       "    <tr>\n",
       "      <th>26</th>\n",
       "      <td>1000110011001010101101101010</td>\n",
       "      <td>0.026316</td>\n",
       "      <td>0.005448</td>\n",
       "      <td>0.930012</td>\n",
       "      <td>0.010</td>\n",
       "      <td>0</td>\n",
       "      <td>0</td>\n",
       "    </tr>\n",
       "    <tr>\n",
       "      <th>27</th>\n",
       "      <td>1010010011001010101101000001</td>\n",
       "      <td>0.166667</td>\n",
       "      <td>0.034501</td>\n",
       "      <td>0.964513</td>\n",
       "      <td>0.756</td>\n",
       "      <td>19</td>\n",
       "      <td>0</td>\n",
       "    </tr>\n",
       "    <tr>\n",
       "      <th>28</th>\n",
       "      <td>1000110000001000001001101000</td>\n",
       "      <td>0.100000</td>\n",
       "      <td>0.020701</td>\n",
       "      <td>0.985214</td>\n",
       "      <td>0.569</td>\n",
       "      <td>15</td>\n",
       "      <td>1</td>\n",
       "    </tr>\n",
       "    <tr>\n",
       "      <th>29</th>\n",
       "      <td>1010100000001010001011001000</td>\n",
       "      <td>0.071429</td>\n",
       "      <td>0.014786</td>\n",
       "      <td>1.000000</td>\n",
       "      <td>0.806</td>\n",
       "      <td>23</td>\n",
       "      <td>0</td>\n",
       "    </tr>\n",
       "  </tbody>\n",
       "</table>\n",
       "</div>"
      ],
      "text/plain": [
       "                      Population   Fitness  Normalized Fitness  Cumulative  \\\n",
       "0   1010011011001010001011000001  0.500000            0.103503    0.103503   \n",
       "1   1000110000001000001001101000  0.100000            0.020701    0.124204   \n",
       "2   1000110000001010001011000000  0.100000            0.020701    0.144904   \n",
       "3   1000110011001010101101101011  0.026316            0.005448    0.150352   \n",
       "4   1010011011001000001011000001  0.026316            0.005448    0.155799   \n",
       "5   1000110000001010001011000001  0.125000            0.025876    0.181675   \n",
       "6   1000111011001000001001101000  0.500000            0.103503    0.285178   \n",
       "7   1010010000001010001011000001  0.250000            0.051752    0.336930   \n",
       "8   1000110000001010001001101000  0.125000            0.025876    0.362806   \n",
       "9   1010011011001000001011000001  0.026316            0.005448    0.368253   \n",
       "10  1000110000001010101101101010  0.250000            0.051752    0.420005   \n",
       "11  1000110000001010001011000001  0.125000            0.025876    0.445881   \n",
       "12  1000110011001000001001101000  0.018519            0.003833    0.449714   \n",
       "13  1010010011001010101101101010  0.071429            0.014786    0.464500   \n",
       "14  1000111011001010001001101010  0.500000            0.103503    0.568003   \n",
       "15  1000110000001010001011000001  0.125000            0.025876    0.593879   \n",
       "16  1000110011001010101011000001  0.500000            0.103503    0.697382   \n",
       "17  1000110000001010001011000001  0.125000            0.025876    0.723258   \n",
       "18  1000110000001010001001101000  0.125000            0.025876    0.749134   \n",
       "19  1010110000001010001011000001  0.125000            0.025876    0.775010   \n",
       "20  1000011011001000001101101010  0.018519            0.003833    0.778843   \n",
       "21  1000110011001010101001101000  0.026316            0.005448    0.784291   \n",
       "22  1010011011001000001101100001  0.026316            0.005448    0.789738   \n",
       "23  1000110000001010001011101010  0.125000            0.025876    0.815614   \n",
       "24  1000110011001010101101101010  0.026316            0.005448    0.821061   \n",
       "25  1011101011001000001001101000  0.500000            0.103503    0.924565   \n",
       "26  1000110011001010101101101010  0.026316            0.005448    0.930012   \n",
       "27  1010010011001010101101000001  0.166667            0.034501    0.964513   \n",
       "28  1000110000001000001001101000  0.100000            0.020701    0.985214   \n",
       "29  1010100000001010001011001000  0.071429            0.014786    1.000000   \n",
       "\n",
       "    Random  Corresponding Chromosome  Next Gen Count  \n",
       "0    0.051                         0               6  \n",
       "1    0.434                        11               0  \n",
       "2    0.704                        17               1  \n",
       "3    0.866                        25               1  \n",
       "4    0.602                        16               0  \n",
       "5    0.065                         0               0  \n",
       "6    0.056                         0               3  \n",
       "7    0.382                        10               0  \n",
       "8    0.559                        14               1  \n",
       "9    0.195                         6               0  \n",
       "10   0.273                         6               2  \n",
       "11   0.875                        25               2  \n",
       "12   0.047                         0               0  \n",
       "13   0.127                         2               0  \n",
       "14   0.145                         3               2  \n",
       "15   0.520                        14               1  \n",
       "16   0.640                        16               3  \n",
       "17   0.376                        10               1  \n",
       "18   0.442                        11               1  \n",
       "19   0.360                         8               1  \n",
       "20   0.687                        16               0  \n",
       "21   0.067                         0               0  \n",
       "22   0.905                        25               0  \n",
       "23   0.256                         6               1  \n",
       "24   0.746                        18               0  \n",
       "25   0.968                        28               3  \n",
       "26   0.010                         0               0  \n",
       "27   0.756                        19               0  \n",
       "28   0.569                        15               1  \n",
       "29   0.806                        23               0  "
      ]
     },
     "execution_count": 117,
     "metadata": {},
     "output_type": "execute_result"
    }
   ],
   "source": [
    "table"
   ]
  },
  {
   "cell_type": "code",
   "execution_count": 118,
   "metadata": {
    "collapsed": false
   },
   "outputs": [
    {
     "data": {
      "text/plain": [
       "12"
      ]
     },
     "execution_count": 118,
     "metadata": {},
     "output_type": "execute_result"
    }
   ],
   "source": [
    "evaluater(sanitiser(decoder('1010011011001010001011000001')))"
   ]
  },
  {
   "cell_type": "code",
   "execution_count": null,
   "metadata": {
    "collapsed": true
   },
   "outputs": [],
   "source": []
  }
 ],
 "metadata": {
  "kernelspec": {
   "display_name": "Python 3",
   "language": "python",
   "name": "python3"
  },
  "language_info": {
   "codemirror_mode": {
    "name": "ipython",
    "version": 3
   },
   "file_extension": ".py",
   "mimetype": "text/x-python",
   "name": "python",
   "nbconvert_exporter": "python",
   "pygments_lexer": "ipython3",
   "version": "3.5.2"
  }
 },
 "nbformat": 4,
 "nbformat_minor": 2
}
