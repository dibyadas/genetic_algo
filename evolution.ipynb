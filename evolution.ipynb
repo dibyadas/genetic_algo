{
 "cells": [
  {
   "cell_type": "markdown",
   "metadata": {},
   "source": [
    "\n",
    "##### Author : Dibya Prakash Das\n"
   ]
  },
  {
   "cell_type": "code",
   "execution_count": 1,
   "metadata": {
    "collapsed": false
   },
   "outputs": [],
   "source": [
    "import random\n",
    "from GAlib.GA import create_chromsome, decoder, sanitiser, evaluater\n",
    "from GAlib.GAhelper import count, calc_cumulative, lessthan, create_next_gen, make_crossover, mutate\n",
    "import pandas as pd"
   ]
  },
  {
   "cell_type": "markdown",
   "metadata": {},
   "source": [
    "### Creating an initial population of 30 chromosomes"
   ]
  },
  {
   "cell_type": "code",
   "execution_count": 2,
   "metadata": {
    "collapsed": true
   },
   "outputs": [],
   "source": [
    "mating_pool = [create_chromsome() for i in range(30)]"
   ]
  },
  {
   "cell_type": "code",
   "execution_count": 3,
   "metadata": {
    "collapsed": false
   },
   "outputs": [
    {
     "data": {
      "text/plain": [
       "30"
      ]
     },
     "execution_count": 3,
     "metadata": {},
     "output_type": "execute_result"
    }
   ],
   "source": [
    "len(mating_pool)"
   ]
  },
  {
   "cell_type": "code",
   "execution_count": 19,
   "metadata": {
    "collapsed": false
   },
   "outputs": [
    {
     "name": "stdout",
     "output_type": "stream",
     "text": [
      "30\n",
      "30\n",
      "30\n"
     ]
    }
   ],
   "source": [
    "mating_pool = create_next_gen(corresponding,mating_pool)\n",
    "print(len(mating_pool))\n",
    "mating_pool = make_crossover(mating_pool, 0.9)\n",
    "print(len(mating_pool))\n",
    "mating_pool = mutate(mating_pool, 0.1, 3)\n",
    "print(len(mating_pool))"
   ]
  },
  {
   "cell_type": "code",
   "execution_count": 4,
   "metadata": {
    "collapsed": true
   },
   "outputs": [],
   "source": [
    "table = pd.DataFrame(columns=['Population','Fitness','Normalized Fitness','Cumulative','Random','Corresponding Chromosome','Next Gen Count'])"
   ]
  },
  {
   "cell_type": "markdown",
   "metadata": {},
   "source": [
    "### Fitness function, to make the chromosome value as close to 20 as possible"
   ]
  },
  {
   "cell_type": "code",
   "execution_count": 5,
   "metadata": {
    "collapsed": false
   },
   "outputs": [],
   "source": [
    "def fitness_function(x):\n",
    "    try:\n",
    "        return abs(1/(20 - x))\n",
    "    except ZeroDivisionError:\n",
    "        return 100"
   ]
  },
  {
   "cell_type": "code",
   "execution_count": 6,
   "metadata": {
    "collapsed": false
   },
   "outputs": [],
   "source": [
    "fitness = [fitness_function(evaluater(sanitiser(decoder(i)))) for i in mating_pool]"
   ]
  },
  {
   "cell_type": "code",
   "execution_count": 7,
   "metadata": {
    "collapsed": false
   },
   "outputs": [],
   "source": [
    "values = [evaluater(sanitiser(decoder(i))) for i in mating_pool]"
   ]
  },
  {
   "cell_type": "code",
   "execution_count": 8,
   "metadata": {
    "collapsed": false
   },
   "outputs": [],
   "source": [
    "total_fitness = sum(fitness)"
   ]
  },
  {
   "cell_type": "code",
   "execution_count": 9,
   "metadata": {
    "collapsed": true
   },
   "outputs": [],
   "source": [
    "cumulative_fitness = []"
   ]
  },
  {
   "cell_type": "code",
   "execution_count": 10,
   "metadata": {
    "collapsed": true
   },
   "outputs": [],
   "source": [
    "normalized_fitness = [i/sum(fitness) for i in fitness]"
   ]
  },
  {
   "cell_type": "code",
   "execution_count": 11,
   "metadata": {
    "collapsed": false
   },
   "outputs": [],
   "source": [
    "cumulative_fitness = calc_cumulative(normalized_fitness)"
   ]
  },
  {
   "cell_type": "code",
   "execution_count": 12,
   "metadata": {
    "collapsed": true
   },
   "outputs": [],
   "source": [
    "random_prob = [random.randint(0,999)/1000 for i in range(len(mating_pool))]"
   ]
  },
  {
   "cell_type": "code",
   "execution_count": 13,
   "metadata": {
    "collapsed": false
   },
   "outputs": [],
   "source": [
    "corresponding = [lessthan(i,cumulative_fitness) for i in random_prob]"
   ]
  },
  {
   "cell_type": "code",
   "execution_count": 14,
   "metadata": {
    "collapsed": false
   },
   "outputs": [
    {
     "data": {
      "text/plain": [
       "30"
      ]
     },
     "execution_count": 14,
     "metadata": {},
     "output_type": "execute_result"
    }
   ],
   "source": [
    "len(corresponding)"
   ]
  },
  {
   "cell_type": "code",
   "execution_count": 15,
   "metadata": {
    "collapsed": false
   },
   "outputs": [
    {
     "data": {
      "text/plain": [
       "(30, 30, 30, 30)"
      ]
     },
     "execution_count": 15,
     "metadata": {},
     "output_type": "execute_result"
    }
   ],
   "source": [
    "len(random_prob), len(fitness), len(cumulative_fitness), len(mating_pool)"
   ]
  },
  {
   "cell_type": "code",
   "execution_count": 16,
   "metadata": {
    "collapsed": false
   },
   "outputs": [],
   "source": [
    "table['Population'] = mating_pool\n",
    "table['Fitness'] = fitness\n",
    "table['Normalized Fitness'] = normalized_fitness\n",
    "table['Cumulative'] = cumulative_fitness\n",
    "table['Random'] = random_prob\n",
    "table['Corresponding Chromosome'] = corresponding\n",
    "table['Next Gen Count'] = count(corresponding, mating_pool)"
   ]
  },
  {
   "cell_type": "code",
   "execution_count": 17,
   "metadata": {
    "collapsed": false
   },
   "outputs": [
    {
     "data": {
      "text/html": [
       "<div>\n",
       "<style>\n",
       "    .dataframe thead tr:only-child th {\n",
       "        text-align: right;\n",
       "    }\n",
       "\n",
       "    .dataframe thead th {\n",
       "        text-align: left;\n",
       "    }\n",
       "\n",
       "    .dataframe tbody tr th {\n",
       "        vertical-align: top;\n",
       "    }\n",
       "</style>\n",
       "<table border=\"1\" class=\"dataframe\">\n",
       "  <thead>\n",
       "    <tr style=\"text-align: right;\">\n",
       "      <th></th>\n",
       "      <th>Population</th>\n",
       "      <th>Fitness</th>\n",
       "      <th>Normalized Fitness</th>\n",
       "      <th>Cumulative</th>\n",
       "      <th>Random</th>\n",
       "      <th>Corresponding Chromosome</th>\n",
       "      <th>Next Gen Count</th>\n",
       "    </tr>\n",
       "  </thead>\n",
       "  <tbody>\n",
       "    <tr>\n",
       "      <th>0</th>\n",
       "      <td>0111100110010110011111010110</td>\n",
       "      <td>0.053097</td>\n",
       "      <td>0.019561</td>\n",
       "      <td>0.019561</td>\n",
       "      <td>0.727</td>\n",
       "      <td>22</td>\n",
       "      <td>1</td>\n",
       "    </tr>\n",
       "    <tr>\n",
       "      <th>1</th>\n",
       "      <td>0111000101110010000100110000</td>\n",
       "      <td>0.076923</td>\n",
       "      <td>0.028338</td>\n",
       "      <td>0.047899</td>\n",
       "      <td>0.664</td>\n",
       "      <td>22</td>\n",
       "      <td>0</td>\n",
       "    </tr>\n",
       "    <tr>\n",
       "      <th>2</th>\n",
       "      <td>1000010110000000110101101010</td>\n",
       "      <td>0.053571</td>\n",
       "      <td>0.019735</td>\n",
       "      <td>0.067634</td>\n",
       "      <td>0.132</td>\n",
       "      <td>5</td>\n",
       "      <td>0</td>\n",
       "    </tr>\n",
       "    <tr>\n",
       "      <th>3</th>\n",
       "      <td>0101000011010100010100111011</td>\n",
       "      <td>0.053333</td>\n",
       "      <td>0.019648</td>\n",
       "      <td>0.087282</td>\n",
       "      <td>0.986</td>\n",
       "      <td>29</td>\n",
       "      <td>0</td>\n",
       "    </tr>\n",
       "    <tr>\n",
       "      <th>4</th>\n",
       "      <td>1100010001000100000000001011</td>\n",
       "      <td>0.062500</td>\n",
       "      <td>0.023025</td>\n",
       "      <td>0.110307</td>\n",
       "      <td>0.191</td>\n",
       "      <td>7</td>\n",
       "      <td>1</td>\n",
       "    </tr>\n",
       "    <tr>\n",
       "      <th>5</th>\n",
       "      <td>1101110111001010110101101000</td>\n",
       "      <td>0.071429</td>\n",
       "      <td>0.026314</td>\n",
       "      <td>0.136621</td>\n",
       "      <td>0.478</td>\n",
       "      <td>17</td>\n",
       "      <td>1</td>\n",
       "    </tr>\n",
       "    <tr>\n",
       "      <th>6</th>\n",
       "      <td>1011010111001000000111001001</td>\n",
       "      <td>0.002941</td>\n",
       "      <td>0.001084</td>\n",
       "      <td>0.137704</td>\n",
       "      <td>0.433</td>\n",
       "      <td>16</td>\n",
       "      <td>0</td>\n",
       "    </tr>\n",
       "    <tr>\n",
       "      <th>7</th>\n",
       "      <td>1001101001111010011110111101</td>\n",
       "      <td>0.333333</td>\n",
       "      <td>0.122798</td>\n",
       "      <td>0.260503</td>\n",
       "      <td>0.460</td>\n",
       "      <td>17</td>\n",
       "      <td>4</td>\n",
       "    </tr>\n",
       "    <tr>\n",
       "      <th>8</th>\n",
       "      <td>1010100001100101011000011010</td>\n",
       "      <td>0.083333</td>\n",
       "      <td>0.030700</td>\n",
       "      <td>0.291202</td>\n",
       "      <td>0.469</td>\n",
       "      <td>17</td>\n",
       "      <td>0</td>\n",
       "    </tr>\n",
       "    <tr>\n",
       "      <th>9</th>\n",
       "      <td>0000110111011100110101011100</td>\n",
       "      <td>0.050000</td>\n",
       "      <td>0.018420</td>\n",
       "      <td>0.309622</td>\n",
       "      <td>0.008</td>\n",
       "      <td>0</td>\n",
       "      <td>0</td>\n",
       "    </tr>\n",
       "    <tr>\n",
       "      <th>10</th>\n",
       "      <td>0010001010010011101001100000</td>\n",
       "      <td>0.083333</td>\n",
       "      <td>0.030700</td>\n",
       "      <td>0.340322</td>\n",
       "      <td>0.986</td>\n",
       "      <td>29</td>\n",
       "      <td>2</td>\n",
       "    </tr>\n",
       "    <tr>\n",
       "      <th>11</th>\n",
       "      <td>0000101111010110011001010001</td>\n",
       "      <td>0.038462</td>\n",
       "      <td>0.014169</td>\n",
       "      <td>0.354491</td>\n",
       "      <td>0.624</td>\n",
       "      <td>22</td>\n",
       "      <td>0</td>\n",
       "    </tr>\n",
       "    <tr>\n",
       "      <th>12</th>\n",
       "      <td>0011011001000010011101001100</td>\n",
       "      <td>0.058824</td>\n",
       "      <td>0.021670</td>\n",
       "      <td>0.376161</td>\n",
       "      <td>0.733</td>\n",
       "      <td>22</td>\n",
       "      <td>2</td>\n",
       "    </tr>\n",
       "    <tr>\n",
       "      <th>13</th>\n",
       "      <td>1010100111011011100011010011</td>\n",
       "      <td>0.050955</td>\n",
       "      <td>0.018772</td>\n",
       "      <td>0.394933</td>\n",
       "      <td>0.544</td>\n",
       "      <td>20</td>\n",
       "      <td>0</td>\n",
       "    </tr>\n",
       "    <tr>\n",
       "      <th>14</th>\n",
       "      <td>0101010010011100110110110000</td>\n",
       "      <td>0.050000</td>\n",
       "      <td>0.018420</td>\n",
       "      <td>0.413353</td>\n",
       "      <td>0.939</td>\n",
       "      <td>27</td>\n",
       "      <td>0</td>\n",
       "    </tr>\n",
       "    <tr>\n",
       "      <th>15</th>\n",
       "      <td>0101011110111001000001011011</td>\n",
       "      <td>0.041667</td>\n",
       "      <td>0.015350</td>\n",
       "      <td>0.428702</td>\n",
       "      <td>0.751</td>\n",
       "      <td>23</td>\n",
       "      <td>0</td>\n",
       "    </tr>\n",
       "    <tr>\n",
       "      <th>16</th>\n",
       "      <td>0111001010000011001001000010</td>\n",
       "      <td>0.076923</td>\n",
       "      <td>0.028338</td>\n",
       "      <td>0.457041</td>\n",
       "      <td>0.147</td>\n",
       "      <td>7</td>\n",
       "      <td>2</td>\n",
       "    </tr>\n",
       "    <tr>\n",
       "      <th>17</th>\n",
       "      <td>0110110001100000010101001011</td>\n",
       "      <td>0.062500</td>\n",
       "      <td>0.023025</td>\n",
       "      <td>0.480065</td>\n",
       "      <td>0.531</td>\n",
       "      <td>20</td>\n",
       "      <td>3</td>\n",
       "    </tr>\n",
       "    <tr>\n",
       "      <th>18</th>\n",
       "      <td>0100001001010011000000011001</td>\n",
       "      <td>0.062500</td>\n",
       "      <td>0.023025</td>\n",
       "      <td>0.503090</td>\n",
       "      <td>0.804</td>\n",
       "      <td>23</td>\n",
       "      <td>1</td>\n",
       "    </tr>\n",
       "    <tr>\n",
       "      <th>19</th>\n",
       "      <td>1010101100110100011001101101</td>\n",
       "      <td>0.058824</td>\n",
       "      <td>0.021670</td>\n",
       "      <td>0.524760</td>\n",
       "      <td>0.251</td>\n",
       "      <td>7</td>\n",
       "      <td>0</td>\n",
       "    </tr>\n",
       "    <tr>\n",
       "      <th>20</th>\n",
       "      <td>0111011001110100101101101100</td>\n",
       "      <td>0.052632</td>\n",
       "      <td>0.019389</td>\n",
       "      <td>0.544149</td>\n",
       "      <td>0.180</td>\n",
       "      <td>7</td>\n",
       "      <td>2</td>\n",
       "    </tr>\n",
       "    <tr>\n",
       "      <th>21</th>\n",
       "      <td>1011101110100000110110101011</td>\n",
       "      <td>0.050000</td>\n",
       "      <td>0.018420</td>\n",
       "      <td>0.562569</td>\n",
       "      <td>0.452</td>\n",
       "      <td>16</td>\n",
       "      <td>0</td>\n",
       "    </tr>\n",
       "    <tr>\n",
       "      <th>22</th>\n",
       "      <td>1010001011001001100101110000</td>\n",
       "      <td>0.500000</td>\n",
       "      <td>0.184198</td>\n",
       "      <td>0.746767</td>\n",
       "      <td>0.898</td>\n",
       "      <td>25</td>\n",
       "      <td>4</td>\n",
       "    </tr>\n",
       "    <tr>\n",
       "      <th>23</th>\n",
       "      <td>1100100110011010011101110010</td>\n",
       "      <td>0.250000</td>\n",
       "      <td>0.092099</td>\n",
       "      <td>0.838866</td>\n",
       "      <td>0.902</td>\n",
       "      <td>25</td>\n",
       "      <td>2</td>\n",
       "    </tr>\n",
       "    <tr>\n",
       "      <th>24</th>\n",
       "      <td>1101010100111011110011010110</td>\n",
       "      <td>0.047619</td>\n",
       "      <td>0.017543</td>\n",
       "      <td>0.856408</td>\n",
       "      <td>0.486</td>\n",
       "      <td>18</td>\n",
       "      <td>0</td>\n",
       "    </tr>\n",
       "    <tr>\n",
       "      <th>25</th>\n",
       "      <td>1011011100111010110101110001</td>\n",
       "      <td>0.166667</td>\n",
       "      <td>0.061399</td>\n",
       "      <td>0.917808</td>\n",
       "      <td>0.371</td>\n",
       "      <td>12</td>\n",
       "      <td>2</td>\n",
       "    </tr>\n",
       "    <tr>\n",
       "      <th>26</th>\n",
       "      <td>1010011110110110100010110010</td>\n",
       "      <td>0.047619</td>\n",
       "      <td>0.017543</td>\n",
       "      <td>0.935350</td>\n",
       "      <td>0.357</td>\n",
       "      <td>12</td>\n",
       "      <td>0</td>\n",
       "    </tr>\n",
       "    <tr>\n",
       "      <th>27</th>\n",
       "      <td>0101000100110010000100100101</td>\n",
       "      <td>0.066667</td>\n",
       "      <td>0.024560</td>\n",
       "      <td>0.959910</td>\n",
       "      <td>0.310</td>\n",
       "      <td>10</td>\n",
       "      <td>1</td>\n",
       "    </tr>\n",
       "    <tr>\n",
       "      <th>28</th>\n",
       "      <td>1101110111000011000101000000</td>\n",
       "      <td>0.058824</td>\n",
       "      <td>0.021670</td>\n",
       "      <td>0.981580</td>\n",
       "      <td>0.329</td>\n",
       "      <td>10</td>\n",
       "      <td>0</td>\n",
       "    </tr>\n",
       "    <tr>\n",
       "      <th>29</th>\n",
       "      <td>1011000101011001100111000000</td>\n",
       "      <td>0.050000</td>\n",
       "      <td>0.018420</td>\n",
       "      <td>1.000000</td>\n",
       "      <td>0.092</td>\n",
       "      <td>4</td>\n",
       "      <td>2</td>\n",
       "    </tr>\n",
       "  </tbody>\n",
       "</table>\n",
       "</div>"
      ],
      "text/plain": [
       "                      Population   Fitness  Normalized Fitness  Cumulative  \\\n",
       "0   0111100110010110011111010110  0.053097            0.019561    0.019561   \n",
       "1   0111000101110010000100110000  0.076923            0.028338    0.047899   \n",
       "2   1000010110000000110101101010  0.053571            0.019735    0.067634   \n",
       "3   0101000011010100010100111011  0.053333            0.019648    0.087282   \n",
       "4   1100010001000100000000001011  0.062500            0.023025    0.110307   \n",
       "5   1101110111001010110101101000  0.071429            0.026314    0.136621   \n",
       "6   1011010111001000000111001001  0.002941            0.001084    0.137704   \n",
       "7   1001101001111010011110111101  0.333333            0.122798    0.260503   \n",
       "8   1010100001100101011000011010  0.083333            0.030700    0.291202   \n",
       "9   0000110111011100110101011100  0.050000            0.018420    0.309622   \n",
       "10  0010001010010011101001100000  0.083333            0.030700    0.340322   \n",
       "11  0000101111010110011001010001  0.038462            0.014169    0.354491   \n",
       "12  0011011001000010011101001100  0.058824            0.021670    0.376161   \n",
       "13  1010100111011011100011010011  0.050955            0.018772    0.394933   \n",
       "14  0101010010011100110110110000  0.050000            0.018420    0.413353   \n",
       "15  0101011110111001000001011011  0.041667            0.015350    0.428702   \n",
       "16  0111001010000011001001000010  0.076923            0.028338    0.457041   \n",
       "17  0110110001100000010101001011  0.062500            0.023025    0.480065   \n",
       "18  0100001001010011000000011001  0.062500            0.023025    0.503090   \n",
       "19  1010101100110100011001101101  0.058824            0.021670    0.524760   \n",
       "20  0111011001110100101101101100  0.052632            0.019389    0.544149   \n",
       "21  1011101110100000110110101011  0.050000            0.018420    0.562569   \n",
       "22  1010001011001001100101110000  0.500000            0.184198    0.746767   \n",
       "23  1100100110011010011101110010  0.250000            0.092099    0.838866   \n",
       "24  1101010100111011110011010110  0.047619            0.017543    0.856408   \n",
       "25  1011011100111010110101110001  0.166667            0.061399    0.917808   \n",
       "26  1010011110110110100010110010  0.047619            0.017543    0.935350   \n",
       "27  0101000100110010000100100101  0.066667            0.024560    0.959910   \n",
       "28  1101110111000011000101000000  0.058824            0.021670    0.981580   \n",
       "29  1011000101011001100111000000  0.050000            0.018420    1.000000   \n",
       "\n",
       "    Random  Corresponding Chromosome  Next Gen Count  \n",
       "0    0.727                        22               1  \n",
       "1    0.664                        22               0  \n",
       "2    0.132                         5               0  \n",
       "3    0.986                        29               0  \n",
       "4    0.191                         7               1  \n",
       "5    0.478                        17               1  \n",
       "6    0.433                        16               0  \n",
       "7    0.460                        17               4  \n",
       "8    0.469                        17               0  \n",
       "9    0.008                         0               0  \n",
       "10   0.986                        29               2  \n",
       "11   0.624                        22               0  \n",
       "12   0.733                        22               2  \n",
       "13   0.544                        20               0  \n",
       "14   0.939                        27               0  \n",
       "15   0.751                        23               0  \n",
       "16   0.147                         7               2  \n",
       "17   0.531                        20               3  \n",
       "18   0.804                        23               1  \n",
       "19   0.251                         7               0  \n",
       "20   0.180                         7               2  \n",
       "21   0.452                        16               0  \n",
       "22   0.898                        25               4  \n",
       "23   0.902                        25               2  \n",
       "24   0.486                        18               0  \n",
       "25   0.371                        12               2  \n",
       "26   0.357                        12               0  \n",
       "27   0.310                        10               1  \n",
       "28   0.329                        10               0  \n",
       "29   0.092                         4               2  "
      ]
     },
     "execution_count": 17,
     "metadata": {},
     "output_type": "execute_result"
    }
   ],
   "source": [
    "table"
   ]
  },
  {
   "cell_type": "code",
   "execution_count": 18,
   "metadata": {
    "collapsed": false
   },
   "outputs": [
    {
     "data": {
      "text/plain": [
       "18"
      ]
     },
     "execution_count": 18,
     "metadata": {},
     "output_type": "execute_result"
    }
   ],
   "source": [
    "evaluater(sanitiser(decoder('1010001011001001100101110000')))"
   ]
  },
  {
   "cell_type": "code",
   "execution_count": null,
   "metadata": {
    "collapsed": true
   },
   "outputs": [],
   "source": []
  }
 ],
 "metadata": {
  "kernelspec": {
   "display_name": "Python 3",
   "language": "python",
   "name": "python3"
  },
  "language_info": {
   "codemirror_mode": {
    "name": "ipython",
    "version": 3
   },
   "file_extension": ".py",
   "mimetype": "text/x-python",
   "name": "python",
   "nbconvert_exporter": "python",
   "pygments_lexer": "ipython3",
   "version": "3.5.2"
  }
 },
 "nbformat": 4,
 "nbformat_minor": 2
}
