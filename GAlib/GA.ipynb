{
 "cells": [
  {
   "cell_type": "code",
   "execution_count": 1,
   "metadata": {
    "collapsed": true
   },
   "outputs": [],
   "source": [
    "import random"
   ]
  },
  {
   "cell_type": "code",
   "execution_count": 2,
   "metadata": {
    "collapsed": true
   },
   "outputs": [],
   "source": [
    "genes =        { \"0\" : \"0000\",\n",
    "                 \"1\" : \"0001\",\n",
    "                 \"2\" : \"0010\",\n",
    "                 \"3\" : \"0011\",\n",
    "                 \"4\" : \"0100\",\n",
    "                 \"5\" : \"0101\",\n",
    "                 \"6\" : \"0110\",\n",
    "                 \"7\" : \"0111\",\n",
    "                 \"8\" : \"1000\",\n",
    "                 \"9\" : \"1001\",\n",
    "                 \"+\" : \"1010\",\n",
    "                 \"-\" : \"1011\",\n",
    "                 \"*\" : \"1100\",\n",
    "                 \"/\" : \"1101\"}"
   ]
  },
  {
   "cell_type": "code",
   "execution_count": 12,
   "metadata": {
    "collapsed": false
   },
   "outputs": [],
   "source": [
    "# inverted = dict([[v,k] for k,v in genes.items()])\n",
    "inverted = {genes[i]:i for i in genes}"
   ]
  },
  {
   "cell_type": "code",
   "execution_count": 14,
   "metadata": {
    "collapsed": false
   },
   "outputs": [],
   "source": [
    "gene_map = []\n",
    "for i in enumerate(genes):\n",
    "    gene_map.append(i)"
   ]
  },
  {
   "cell_type": "code",
   "execution_count": 15,
   "metadata": {
    "collapsed": true
   },
   "outputs": [],
   "source": [
    "def create_chromsome(genes):\n",
    "    chrsme = \"\"\n",
    "    index = [random.randint(0,13) for i in range(7)]\n",
    "    for i in index:\n",
    "        chrsme += genes[gene_map[i][1]]\n",
    "    return chrsme"
   ]
  },
  {
   "cell_type": "code",
   "execution_count": 28,
   "metadata": {
    "collapsed": false,
    "scrolled": true
   },
   "outputs": [
    {
     "data": {
      "text/plain": [
       "'0000010011001010011001100000'"
      ]
     },
     "execution_count": 28,
     "metadata": {},
     "output_type": "execute_result"
    }
   ],
   "source": [
    "create_chromsome(genes)"
   ]
  },
  {
   "cell_type": "code",
   "execution_count": 17,
   "metadata": {
    "collapsed": false
   },
   "outputs": [
    {
     "data": {
      "text/plain": [
       "28"
      ]
     },
     "execution_count": 17,
     "metadata": {},
     "output_type": "execute_result"
    }
   ],
   "source": [
    "h = '0100110111010111101000111011'\n",
    "len(h)"
   ]
  },
  {
   "cell_type": "code",
   "execution_count": 18,
   "metadata": {
    "collapsed": false
   },
   "outputs": [
    {
     "data": {
      "text/plain": [
       "('0100110111011111101000111011', 28)"
      ]
     },
     "execution_count": 18,
     "metadata": {},
     "output_type": "execute_result"
    }
   ],
   "source": [
    "h = h[:12]+\"1\"+h[13:]\n",
    "h,len(h)"
   ]
  },
  {
   "cell_type": "code",
   "execution_count": 22,
   "metadata": {
    "collapsed": false
   },
   "outputs": [
    {
     "data": {
      "text/plain": [
       "['4', '/', '/', 'na', '+', '3', '-']"
      ]
     },
     "execution_count": 22,
     "metadata": {},
     "output_type": "execute_result"
    }
   ],
   "source": [
    "decoder(h)"
   ]
  },
  {
   "cell_type": "code",
   "execution_count": 21,
   "metadata": {
    "collapsed": false
   },
   "outputs": [],
   "source": [
    "def decoder(chromosome):\n",
    "    genes = []\n",
    "    for i in range(7):\n",
    "        genes.append(chromosome[4*i:4*(i+1)])\n",
    "    for i in range(len(genes)):\n",
    "        try:\n",
    "            genes[i] = inverted[genes[i]]\n",
    "        except KeyError:\n",
    "            genes[i] = \"na\"\n",
    "    return genes"
   ]
  },
  {
   "cell_type": "code",
   "execution_count": 23,
   "metadata": {
    "collapsed": false
   },
   "outputs": [],
   "source": [
    "def sanitiser(dec_chr):\n",
    "    copy_dec_chr = dec_chr.copy()\n",
    "    flag = 0   # 0 for number and 1 for operator\n",
    "    tobe = []\n",
    "    for i in range(len(dec_chr)):\n",
    "        try:\n",
    "            int(dec_chr[i])\n",
    "            if flag == 1:\n",
    "                tobe.append(i)\n",
    "            flag = 1\n",
    "        except ValueError:  # means it's an operator\n",
    "            if flag == 1:\n",
    "                flag = 0 \n",
    "                continue\n",
    "            else:\n",
    "                tobe.append(i)\n",
    "    tobe.sort(reverse=True)\n",
    "    for i in tobe:\n",
    "        copy_dec_chr.pop(i)\n",
    "    if copy_dec_chr[-1] in [\"+\",\"-\",\"/\",\"*\",\"na\"]:\n",
    "        return copy_dec_chr[:-1]\n",
    "    return copy_dec_chr"
   ]
  },
  {
   "cell_type": "code",
   "execution_count": 33,
   "metadata": {
    "collapsed": false
   },
   "outputs": [
    {
     "data": {
      "text/plain": [
       "['1', '/', '9', '+', '5', '0', '*']"
      ]
     },
     "execution_count": 33,
     "metadata": {},
     "output_type": "execute_result"
    }
   ],
   "source": [
    "y = decoder(create_chromsome(genes))\n",
    "y"
   ]
  },
  {
   "cell_type": "code",
   "execution_count": 34,
   "metadata": {
    "collapsed": false
   },
   "outputs": [
    {
     "data": {
      "text/plain": [
       "['1', '/', '9', '+', '5']"
      ]
     },
     "execution_count": 34,
     "metadata": {},
     "output_type": "execute_result"
    }
   ],
   "source": [
    "sanitiser(y)"
   ]
  },
  {
   "cell_type": "code",
   "execution_count": 47,
   "metadata": {
    "collapsed": true
   },
   "outputs": [],
   "source": [
    "def evaluater(dec_chr):\n",
    "    try:\n",
    "        return eval(\"\".join(sanitiser(dec_chr)))\n",
    "    except ZeroDivisionError:\n",
    "        return 0\n",
    "    except Exception as e:\n",
    "        return e"
   ]
  },
  {
   "cell_type": "code",
   "execution_count": 49,
   "metadata": {
    "collapsed": true
   },
   "outputs": [
    {
     "name": "stdout",
     "output_type": "stream",
     "text": [
      "4.0\n",
      "14\n",
      "5.6\n",
      "0\n",
      "7\n",
      "13\n",
      "36\n",
      "9\n",
      "-1\n",
      "-2\n",
      "-1.0\n",
      "1\n",
      "2.6666666666666665\n",
      "21\n",
      "0\n",
      "-8.4\n",
      "2\n",
      "4.375\n",
      "24\n",
      "9.0\n"
     ]
    }
   ],
   "source": [
    "for i in range(20):\n",
    "    print(evaluater(decoder(create_chromsome(genes))))"
   ]
  }
 ],
 "metadata": {
  "kernelspec": {
   "display_name": "Python 3",
   "language": "python",
   "name": "python3"
  },
  "language_info": {
   "codemirror_mode": {
    "name": "ipython",
    "version": 3
   },
   "file_extension": ".py",
   "mimetype": "text/x-python",
   "name": "python",
   "nbconvert_exporter": "python",
   "pygments_lexer": "ipython3",
   "version": "3.5.2"
  }
 },
 "nbformat": 4,
 "nbformat_minor": 2
}
